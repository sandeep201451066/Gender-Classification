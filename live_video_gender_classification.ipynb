{
 "cells": [
  {
   "cell_type": "code",
   "execution_count": 1,
   "metadata": {},
   "outputs": [
    {
     "name": "stderr",
     "output_type": "stream",
     "text": [
      "Using TensorFlow backend.\n",
      "D:\\Anaconda\\lib\\site-packages\\sklearn\\cross_validation.py:41: DeprecationWarning: This module was deprecated in version 0.18 in favor of the model_selection module into which all the refactored classes and functions are moved. Also note that the interface of the new CV iterators are different from that of this module. This module will be removed in 0.20.\n",
      "  \"This module will be removed in 0.20.\", DeprecationWarning)\n"
     ]
    }
   ],
   "source": [
    "import scipy\n",
    "import scipy.io as sio\n",
    "import numpy as np\n",
    "from PIL import Image\n",
    "import math\n",
    "import os\n",
    "from keras.models import Sequential\n",
    "from keras.layers import *\n",
    "from keras.layers.advanced_activations import PReLU\n",
    "#utilities help us transform our data\n",
    "from keras.utils import * \n",
    "from sklearn.cross_validation import train_test_split\n",
    "import pandas as pd\n",
    "from keras.callbacks import EarlyStopping, ModelCheckpoint, CSVLogger\n",
    "import tensorflow as tf\n",
    "\n",
    "import cv2\n",
    "from keras.models import load_model\n",
    "from statistics import mode\n",
    "#from utils import preprocess_input\n",
    "from random import shuffle"
   ]
  },
  {
   "cell_type": "code",
   "execution_count": 6,
   "metadata": {},
   "outputs": [
    {
     "name": "stderr",
     "output_type": "stream",
     "text": [
      "D:\\Anaconda\\lib\\site-packages\\keras\\engine\\topology.py:1269: UserWarning: Update your `Conv2D` call to the Keras 2 API: `Conv2D(name=\"convolution2d_1\", activity_regularizer=None, trainable=True, input_dtype=\"float32\", batch_input_shape=[None, 64,..., activation=\"linear\", kernel_size=(7, 7), filters=16, strides=[1, 1], padding=\"same\", data_format=\"channels_last\", kernel_initializer=\"glorot_uniform\", kernel_regularizer=None, bias_regularizer=None, kernel_constraint=None, bias_constraint=None, use_bias=True)`\n",
      "  return cls(**config)\n",
      "D:\\Anaconda\\lib\\site-packages\\keras\\engine\\topology.py:1269: UserWarning: Update your `PReLU` call to the Keras 2 API: `PReLU(trainable=True, name=\"prelu_1\", alpha_initializer=\"zero\")`\n",
      "  return cls(**config)\n",
      "D:\\Anaconda\\lib\\site-packages\\keras\\engine\\topology.py:1269: UserWarning: Update your `BatchNormalization` call to the Keras 2 API: `BatchNormalization(gamma_regularizer=None, name=\"batchnormalization_1\", epsilon=0.001, trainable=True, beta_regularizer=None, momentum=0.99, axis=-1)`\n",
      "  return cls(**config)\n",
      "D:\\Anaconda\\lib\\site-packages\\keras\\engine\\topology.py:1269: UserWarning: Update your `AveragePooling2D` call to the Keras 2 API: `AveragePooling2D(name=\"averagepooling2d_1\", trainable=True, pool_size=[5, 5], strides=[2, 2], padding=\"same\", data_format=\"channels_last\")`\n",
      "  return cls(**config)\n",
      "D:\\Anaconda\\lib\\site-packages\\keras\\engine\\topology.py:1269: UserWarning: Update your `Dropout` call to the Keras 2 API: `Dropout(trainable=True, name=\"dropout_1\", rate=0.5)`\n",
      "  return cls(**config)\n",
      "D:\\Anaconda\\lib\\site-packages\\keras\\engine\\topology.py:1269: UserWarning: Update your `Conv2D` call to the Keras 2 API: `Conv2D(name=\"convolution2d_2\", activity_regularizer=None, trainable=True, activation=\"linear\", kernel_size=(5, 5), filters=32, strides=[1, 1], padding=\"same\", data_format=\"channels_last\", kernel_initializer=\"glorot_uniform\", kernel_regularizer=None, bias_regularizer=None, kernel_constraint=None, bias_constraint=None, use_bias=True)`\n",
      "  return cls(**config)\n",
      "D:\\Anaconda\\lib\\site-packages\\keras\\engine\\topology.py:1269: UserWarning: Update your `PReLU` call to the Keras 2 API: `PReLU(trainable=True, name=\"prelu_2\", alpha_initializer=\"zero\")`\n",
      "  return cls(**config)\n",
      "D:\\Anaconda\\lib\\site-packages\\keras\\engine\\topology.py:1269: UserWarning: Update your `BatchNormalization` call to the Keras 2 API: `BatchNormalization(gamma_regularizer=None, name=\"batchnormalization_2\", epsilon=0.001, trainable=True, beta_regularizer=None, momentum=0.99, axis=-1)`\n",
      "  return cls(**config)\n",
      "D:\\Anaconda\\lib\\site-packages\\keras\\engine\\topology.py:1269: UserWarning: Update your `AveragePooling2D` call to the Keras 2 API: `AveragePooling2D(name=\"averagepooling2d_2\", trainable=True, pool_size=[3, 3], strides=[2, 2], padding=\"same\", data_format=\"channels_last\")`\n",
      "  return cls(**config)\n",
      "D:\\Anaconda\\lib\\site-packages\\keras\\engine\\topology.py:1269: UserWarning: Update your `Dropout` call to the Keras 2 API: `Dropout(trainable=True, name=\"dropout_2\", rate=0.5)`\n",
      "  return cls(**config)\n",
      "D:\\Anaconda\\lib\\site-packages\\keras\\engine\\topology.py:1269: UserWarning: Update your `Conv2D` call to the Keras 2 API: `Conv2D(name=\"convolution2d_3\", activity_regularizer=None, trainable=True, activation=\"linear\", kernel_size=(3, 3), filters=32, strides=[1, 1], padding=\"same\", data_format=\"channels_last\", kernel_initializer=\"glorot_uniform\", kernel_regularizer=None, bias_regularizer=None, kernel_constraint=None, bias_constraint=None, use_bias=True)`\n",
      "  return cls(**config)\n",
      "D:\\Anaconda\\lib\\site-packages\\keras\\engine\\topology.py:1269: UserWarning: Update your `PReLU` call to the Keras 2 API: `PReLU(trainable=True, name=\"prelu_3\", alpha_initializer=\"zero\")`\n",
      "  return cls(**config)\n",
      "D:\\Anaconda\\lib\\site-packages\\keras\\engine\\topology.py:1269: UserWarning: Update your `BatchNormalization` call to the Keras 2 API: `BatchNormalization(gamma_regularizer=None, name=\"batchnormalization_3\", epsilon=0.001, trainable=True, beta_regularizer=None, momentum=0.99, axis=-1)`\n",
      "  return cls(**config)\n",
      "D:\\Anaconda\\lib\\site-packages\\keras\\engine\\topology.py:1269: UserWarning: Update your `AveragePooling2D` call to the Keras 2 API: `AveragePooling2D(name=\"averagepooling2d_3\", trainable=True, pool_size=[3, 3], strides=[2, 2], padding=\"same\", data_format=\"channels_last\")`\n",
      "  return cls(**config)\n",
      "D:\\Anaconda\\lib\\site-packages\\keras\\engine\\topology.py:1269: UserWarning: Update your `Dropout` call to the Keras 2 API: `Dropout(trainable=True, name=\"dropout_3\", rate=0.5)`\n",
      "  return cls(**config)\n",
      "D:\\Anaconda\\lib\\site-packages\\keras\\engine\\topology.py:1269: UserWarning: Update your `Dense` call to the Keras 2 API: `Dense(name=\"dense_1\", activity_regularizer=None, trainable=True, input_dim=2048, activation=\"linear\", units=1028, kernel_initializer=\"glorot_uniform\", kernel_regularizer=None, bias_regularizer=None, kernel_constraint=None, bias_constraint=None, use_bias=True)`\n",
      "  return cls(**config)\n",
      "D:\\Anaconda\\lib\\site-packages\\keras\\engine\\topology.py:1269: UserWarning: Update your `PReLU` call to the Keras 2 API: `PReLU(trainable=True, name=\"prelu_4\", alpha_initializer=\"zero\")`\n",
      "  return cls(**config)\n",
      "D:\\Anaconda\\lib\\site-packages\\keras\\engine\\topology.py:1269: UserWarning: Update your `Dropout` call to the Keras 2 API: `Dropout(trainable=True, name=\"dropout_4\", rate=0.5)`\n",
      "  return cls(**config)\n",
      "D:\\Anaconda\\lib\\site-packages\\keras\\engine\\topology.py:1269: UserWarning: Update your `Dense` call to the Keras 2 API: `Dense(name=\"dense_2\", activity_regularizer=None, trainable=True, input_dim=1028, activation=\"linear\", units=1028, kernel_initializer=\"glorot_uniform\", kernel_regularizer=None, bias_regularizer=None, kernel_constraint=None, bias_constraint=None, use_bias=True)`\n",
      "  return cls(**config)\n",
      "D:\\Anaconda\\lib\\site-packages\\keras\\engine\\topology.py:1269: UserWarning: Update your `PReLU` call to the Keras 2 API: `PReLU(trainable=True, name=\"prelu_5\", alpha_initializer=\"zero\")`\n",
      "  return cls(**config)\n",
      "D:\\Anaconda\\lib\\site-packages\\keras\\engine\\topology.py:1269: UserWarning: Update your `Dropout` call to the Keras 2 API: `Dropout(trainable=True, name=\"dropout_5\", rate=0.5)`\n",
      "  return cls(**config)\n",
      "D:\\Anaconda\\lib\\site-packages\\keras\\engine\\topology.py:1269: UserWarning: Update your `Dense` call to the Keras 2 API: `Dense(name=\"dense_3\", activity_regularizer=None, trainable=True, input_dim=1028, activation=\"linear\", units=2, kernel_initializer=\"glorot_uniform\", kernel_regularizer=None, bias_regularizer=None, kernel_constraint=None, bias_constraint=None, use_bias=True)`\n",
      "  return cls(**config)\n",
      "D:\\Anaconda\\lib\\site-packages\\keras\\models.py:291: UserWarning: Error in loading the saved optimizer state. As a result, your model is starting with a freshly initialized optimizer.\n",
      "  warnings.warn('Error in loading the saved optimizer '\n"
     ]
    }
   ],
   "source": [
    "# Load trained CNN model for gender classification\n",
    "\n",
    "classification_model_path = './crop_img/test_CNN_model.hdf5'\n",
    "detection_model_path = './crop_img/haarcascade_frontalface_default.xml'\n",
    "frame_window = 10\n",
    "gender_labels = {0:'Female',1:'Male'}\n",
    "\n",
    "face_detection = cv2.CascadeClassifier(detection_model_path)\n",
    "# load trained model\n",
    "gender_classifier = load_model(classification_model_path)\n",
    "gender_window = []\n",
    "# capture video frames\n",
    "video_capture = cv2.VideoCapture(0)\n",
    "font = cv2.FONT_HERSHEY_SIMPLEX\n",
    "cv2.startWindowThread()\n",
    "cv2.namedWindow('window_frame')\n",
    "while True:\n",
    "    _, frame = video_capture.read()\n",
    "    gray = cv2.cvtColor(frame, cv2.COLOR_BGR2GRAY)\n",
    "    faces = face_detection.detectMultiScale(gray,1.3,5)\n",
    "    for (x,y,w,h) in faces:\n",
    "        # draw rectangle on faces\n",
    "        cv2.rectangle(gray,(x - (int)(0.2*w), y - (int)(0.3*h)),(x + (int)(1.2*w), y + (int)(1.2*h)),(255,0,0),2)\n",
    "        # crop faces\n",
    "        face = gray[y - (int)(0.3*h) : y + (int)(1.2*h), x - (int)(0.2*w) : x + (int)(1.2*w)]\n",
    "        try:\n",
    "            face = cv2.resize(face, (64, 64))\n",
    "        except:\n",
    "            continue\n",
    "        face = np.expand_dims(face,0)\n",
    "        face = np.expand_dims(face,-1)\n",
    "        gender_arg = np.argmax(gender_classifier.predict(face))\n",
    "        gender = gender_labels[gender_arg]\n",
    "        gender_window.append(gender)\n",
    "\n",
    "        if len(gender_window) >= frame_window:\n",
    "            gender_window.pop(0)\n",
    "        try:\n",
    "            gender_mode = mode(gender_window)\n",
    "        except:\n",
    "            continue\n",
    "        # put text label on face\n",
    "        cv2.putText(gray,gender_mode,(x,y-30), font, .7,(255,0,0),1,cv2.LINE_AA)\n",
    "    try:\n",
    "        cv2.imshow('window_frame', gray)\n",
    "    except:\n",
    "        continue\n",
    "\n",
    "    if cv2.waitKey(1) & 0xFF == ord('q'):\n",
    "        break\n",
    "\n",
    "video_capture.release()\n",
    "cv2.destroyAllWindows()"
   ]
  },
  {
   "cell_type": "code",
   "execution_count": null,
   "metadata": {
    "collapsed": true
   },
   "outputs": [],
   "source": []
  }
 ],
 "metadata": {
  "kernelspec": {
   "display_name": "Python 3",
   "language": "python",
   "name": "python3"
  },
  "language_info": {
   "codemirror_mode": {
    "name": "ipython",
    "version": 3
   },
   "file_extension": ".py",
   "mimetype": "text/x-python",
   "name": "python",
   "nbconvert_exporter": "python",
   "pygments_lexer": "ipython3",
   "version": "3.6.3"
  }
 },
 "nbformat": 4,
 "nbformat_minor": 2
}
